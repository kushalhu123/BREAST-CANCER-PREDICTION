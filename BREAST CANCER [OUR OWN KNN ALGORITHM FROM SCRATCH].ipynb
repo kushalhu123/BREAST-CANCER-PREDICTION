{
 "cells": [
  {
   "cell_type": "code",
   "execution_count": 1,
   "metadata": {},
   "outputs": [],
   "source": [
    "import pandas as pd\n",
    "import numpy as np\n",
    "import matplotlib.pyplot as plt"
   ]
  },
  {
   "cell_type": "code",
   "execution_count": 15,
   "metadata": {},
   "outputs": [],
   "source": [
    "from sklearn import datasets\n",
    "from sklearn.neighbors import KNeighborsClassifier\n",
    "from sklearn.model_selection import train_test_split\n",
    "from collections import Counter"
   ]
  },
  {
   "cell_type": "code",
   "execution_count": 6,
   "metadata": {},
   "outputs": [],
   "source": [
    "# FIRST LET US GET THE DATA\n",
    "dataset=datasets.load_breast_cancer()"
   ]
  },
  {
   "cell_type": "code",
   "execution_count": 8,
   "metadata": {},
   "outputs": [],
   "source": [
    "# THE DATA AND FEATURES\n",
    "X=dataset.data"
   ]
  },
  {
   "cell_type": "code",
   "execution_count": 9,
   "metadata": {},
   "outputs": [],
   "source": [
    "y=dataset.target"
   ]
  },
  {
   "cell_type": "code",
   "execution_count": 10,
   "metadata": {},
   "outputs": [
    {
     "data": {
      "text/plain": [
       "array([[1.799e+01, 1.038e+01, 1.228e+02, ..., 2.654e-01, 4.601e-01,\n",
       "        1.189e-01],\n",
       "       [2.057e+01, 1.777e+01, 1.329e+02, ..., 1.860e-01, 2.750e-01,\n",
       "        8.902e-02],\n",
       "       [1.969e+01, 2.125e+01, 1.300e+02, ..., 2.430e-01, 3.613e-01,\n",
       "        8.758e-02],\n",
       "       ...,\n",
       "       [1.660e+01, 2.808e+01, 1.083e+02, ..., 1.418e-01, 2.218e-01,\n",
       "        7.820e-02],\n",
       "       [2.060e+01, 2.933e+01, 1.401e+02, ..., 2.650e-01, 4.087e-01,\n",
       "        1.240e-01],\n",
       "       [7.760e+00, 2.454e+01, 4.792e+01, ..., 0.000e+00, 2.871e-01,\n",
       "        7.039e-02]])"
      ]
     },
     "execution_count": 10,
     "metadata": {},
     "output_type": "execute_result"
    }
   ],
   "source": [
    "X# THIS IS IN TYPE OF 2 -D ARRAY"
   ]
  },
  {
   "cell_type": "code",
   "execution_count": 11,
   "metadata": {},
   "outputs": [
    {
     "data": {
      "text/plain": [
       "array([0, 0, 0, 0, 0, 0, 0, 0, 0, 0, 0, 0, 0, 0, 0, 0, 0, 0, 0, 1, 1, 1,\n",
       "       0, 0, 0, 0, 0, 0, 0, 0, 0, 0, 0, 0, 0, 0, 0, 1, 0, 0, 0, 0, 0, 0,\n",
       "       0, 0, 1, 0, 1, 1, 1, 1, 1, 0, 0, 1, 0, 0, 1, 1, 1, 1, 0, 1, 0, 0,\n",
       "       1, 1, 1, 1, 0, 1, 0, 0, 1, 0, 1, 0, 0, 1, 1, 1, 0, 0, 1, 0, 0, 0,\n",
       "       1, 1, 1, 0, 1, 1, 0, 0, 1, 1, 1, 0, 0, 1, 1, 1, 1, 0, 1, 1, 0, 1,\n",
       "       1, 1, 1, 1, 1, 1, 1, 0, 0, 0, 1, 0, 0, 1, 1, 1, 0, 0, 1, 0, 1, 0,\n",
       "       0, 1, 0, 0, 1, 1, 0, 1, 1, 0, 1, 1, 1, 1, 0, 1, 1, 1, 1, 1, 1, 1,\n",
       "       1, 1, 0, 1, 1, 1, 1, 0, 0, 1, 0, 1, 1, 0, 0, 1, 1, 0, 0, 1, 1, 1,\n",
       "       1, 0, 1, 1, 0, 0, 0, 1, 0, 1, 0, 1, 1, 1, 0, 1, 1, 0, 0, 1, 0, 0,\n",
       "       0, 0, 1, 0, 0, 0, 1, 0, 1, 0, 1, 1, 0, 1, 0, 0, 0, 0, 1, 1, 0, 0,\n",
       "       1, 1, 1, 0, 1, 1, 1, 1, 1, 0, 0, 1, 1, 0, 1, 1, 0, 0, 1, 0, 1, 1,\n",
       "       1, 1, 0, 1, 1, 1, 1, 1, 0, 1, 0, 0, 0, 0, 0, 0, 0, 0, 0, 0, 0, 0,\n",
       "       0, 0, 1, 1, 1, 1, 1, 1, 0, 1, 0, 1, 1, 0, 1, 1, 0, 1, 0, 0, 1, 1,\n",
       "       1, 1, 1, 1, 1, 1, 1, 1, 1, 1, 1, 0, 1, 1, 0, 1, 0, 1, 1, 1, 1, 1,\n",
       "       1, 1, 1, 1, 1, 1, 1, 1, 1, 0, 1, 1, 1, 0, 1, 0, 1, 1, 1, 1, 0, 0,\n",
       "       0, 1, 1, 1, 1, 0, 1, 0, 1, 0, 1, 1, 1, 0, 1, 1, 1, 1, 1, 1, 1, 0,\n",
       "       0, 0, 1, 1, 1, 1, 1, 1, 1, 1, 1, 1, 1, 0, 0, 1, 0, 0, 0, 1, 0, 0,\n",
       "       1, 1, 1, 1, 1, 0, 1, 1, 1, 1, 1, 0, 1, 1, 1, 0, 1, 1, 0, 0, 1, 1,\n",
       "       1, 1, 1, 1, 0, 1, 1, 1, 1, 1, 1, 1, 0, 1, 1, 1, 1, 1, 0, 1, 1, 0,\n",
       "       1, 1, 1, 1, 1, 1, 1, 1, 1, 1, 1, 1, 0, 1, 0, 0, 1, 0, 1, 1, 1, 1,\n",
       "       1, 0, 1, 1, 0, 1, 0, 1, 1, 0, 1, 0, 1, 1, 1, 1, 1, 1, 1, 1, 0, 0,\n",
       "       1, 1, 1, 1, 1, 1, 0, 1, 1, 1, 1, 1, 1, 1, 1, 1, 1, 0, 1, 1, 1, 1,\n",
       "       1, 1, 1, 0, 1, 0, 1, 1, 0, 1, 1, 1, 1, 1, 0, 0, 1, 0, 1, 0, 1, 1,\n",
       "       1, 1, 1, 0, 1, 1, 0, 1, 0, 1, 0, 0, 1, 1, 1, 0, 1, 1, 1, 1, 1, 1,\n",
       "       1, 1, 1, 1, 1, 0, 1, 0, 0, 1, 1, 1, 1, 1, 1, 1, 1, 1, 1, 1, 1, 1,\n",
       "       1, 1, 1, 1, 1, 1, 1, 1, 1, 1, 1, 1, 0, 0, 0, 0, 0, 0, 1])"
      ]
     },
     "execution_count": 11,
     "metadata": {},
     "output_type": "execute_result"
    }
   ],
   "source": [
    "y"
   ]
  },
  {
   "cell_type": "code",
   "execution_count": 12,
   "metadata": {},
   "outputs": [],
   "source": [
    "# LET US BUILD OUR OWN ALGORITHM FROM SCRATCH "
   ]
  },
  {
   "cell_type": "code",
   "execution_count": 13,
   "metadata": {},
   "outputs": [],
   "source": [
    "#IN KNN WHAT HAPPENS IS, WE DON T CALL THE TRAIN FUNCTION EXPLICITLY WHAT WE DO IS WE WILL COMPARE THE TEST DATA WITH \n",
    "# ALL THE TRAINING POINTS WHICHEVER WILL BE CLOSE FOR THAT, ON THE BASIS OF MAJORITY VOTE THAT WILL BE SELECTED"
   ]
  },
  {
   "cell_type": "code",
   "execution_count": 16,
   "metadata": {},
   "outputs": [],
   "source": [
    "# BEFORE DOING ANYTHING LET US SPLIT THE DATA\n",
    "X_train,X_test,Y_train,Y_test=train_test_split(X,y,random_state=0)"
   ]
  },
  {
   "cell_type": "code",
   "execution_count": 17,
   "metadata": {},
   "outputs": [],
   "source": [
    "# NOW LET US WRITE THE FIT FUNCTION, BUT WE DONT WANT IN KNN, AS THE REASON IS MENTIONED ABOVE\n",
    "def fit(X_train,Y_train):\n",
    "    return"
   ]
  },
  {
   "cell_type": "code",
   "execution_count": 18,
   "metadata": {},
   "outputs": [],
   "source": [
    "# FOR THE PREDICT FUNCTION WHAT WE DO IS WE WILL TAKE X_train and Y_train"
   ]
  },
  {
   "cell_type": "code",
   "execution_count": 46,
   "metadata": {},
   "outputs": [],
   "source": [
    "def single_predict_point(X_train,Y_train,x):\n",
    "    # I WILL STORE ALL THE DISTANCE AND THEIR ROW IN TERMS OF NESTED LISTS\n",
    "    distance=[]\n",
    "    # WE HAVE TO ITERATE THROUGH THE X_train IN A SINGLE HANDED\n",
    "    for i in range(len(X_train)):\n",
    "        # AS IT IS IN THE FORM OF NUMPY WHAT WE CAN DO IS WE CAN SIMPLY DO \n",
    "        dis=(((X_train[i,:]-x)**2).sum())**1/2\n",
    "        #NOW YOU APPEND dis and THE ROW(i)\n",
    "        distance.append([dis,i])\n",
    "    #NOW WE HAVE ALL THE DISTANCES WITH RESPECT TO EACH ROW IN THE DISTANCE LIST\n",
    "    # WHAT WE DO WE WILL SORT IT FIRST AS THE MINIUMUM DISTANCE HAVE TO BE\n",
    "    distance=sorted(distance)\n",
    "    # IT WILL BE SORTED BASED ON THE FIRST\n",
    "    # NOW WE WILL GET ALL THE TARGET OF THAT RESPECTIVE ROW\n",
    "    target=[]\n",
    "    k=7\n",
    "    # LET ME CONSIDER K AS 7[AS OF NOW],.....IT CAN BE APPLIED TO ANY NUMBER OF K VALUE\n",
    "    for i in range(k):\n",
    "        indexx=distance[i][1]\n",
    "        value=Y_train[indexx]\n",
    "        target.append(value)\n",
    "    #NOW YOU HAVE 7 NEAREST NEIGHBOUR WITH ITS TARGET,NOW WHICH EVER VALUE HAS MORE VOTE YOU CAN GET THAT \n",
    "    #IN PYTHON YOU CAN DO THAT WITH THE HELP OF COUNTERS\n",
    "    mos=Counter(target).most_common(1)[0][0]\n",
    "    return mos\n",
    "    "
   ]
  },
  {
   "cell_type": "code",
   "execution_count": 47,
   "metadata": {},
   "outputs": [],
   "source": [
    "# THIS TAKES 3 PARAMETERS X_train,Y_train and X_test\n",
    "def predict(X_train,Y_train,X_test):\n",
    "    # WE ARE KEEPING ALL THE PREDICTIONS IN ONE LIST\n",
    "    y_pred=[]\n",
    "    # ITERATING ON THE X_test\n",
    "    for x in X_test:\n",
    "        bestclass=single_predict_point(X_train,Y_train,x)\n",
    "        y_pred.append(bestclass)\n",
    "    return y_pred"
   ]
  },
  {
   "cell_type": "code",
   "execution_count": 48,
   "metadata": {},
   "outputs": [],
   "source": [
    "#DISTANCE IS STORED IN THIS FORM\n",
    "#kkk=[[1,2],[3,4]]"
   ]
  },
  {
   "cell_type": "code",
   "execution_count": 49,
   "metadata": {},
   "outputs": [],
   "source": [
    "#for i in range(len(kkk)):\n",
    "    #print(kkk[i][1])"
   ]
  },
  {
   "cell_type": "code",
   "execution_count": 50,
   "metadata": {},
   "outputs": [
    {
     "name": "stdout",
     "output_type": "stream",
     "text": [
      "1\n"
     ]
    }
   ],
   "source": [
    "#HOW TO USE COUNTER\n",
    "power=[1,1,1,1,0,0]\n",
    "yess=Counter(power).most_common(1)[0][0]\n",
    "print(yess)\n",
    "#################"
   ]
  },
  {
   "cell_type": "code",
   "execution_count": 51,
   "metadata": {},
   "outputs": [],
   "source": [
    "# AND ALSO BEFORE APPLYING KNN WE NEED TO DO FEATURE SCALING AS WE HAVE IMPORTED FROM SKLEARN DATASETS \n",
    "# WE NEED NOT DO THIS \n",
    "ypred=predict(X_train,Y_train,X_test)"
   ]
  },
  {
   "cell_type": "code",
   "execution_count": 55,
   "metadata": {},
   "outputs": [
    {
     "name": "stdout",
     "output_type": "stream",
     "text": [
      "0.9440559440559441\n"
     ]
    }
   ],
   "source": [
    "from sklearn.metrics import accuracy_score\n",
    "star=accuracy_score(Y_test,ypred)\n",
    "print(star)"
   ]
  },
  {
   "cell_type": "code",
   "execution_count": 53,
   "metadata": {},
   "outputs": [
    {
     "name": "stdout",
     "output_type": "stream",
     "text": [
      "[0, 1, 1, 0, 1, 1, 1, 1, 1, 1, 1, 1, 1, 0, 1, 0, 1, 0, 0, 0, 0, 0, 1, 1, 0, 1, 1, 1, 1, 0, 1, 0, 1, 0, 1, 0, 1, 0, 1, 0, 0, 1, 0, 1, 0, 0, 1, 1, 1, 0, 0, 1, 0, 1, 1, 1, 1, 1, 1, 0, 0, 0, 1, 1, 0, 1, 0, 0, 0, 1, 1, 0, 1, 1, 0, 1, 1, 1, 1, 1, 0, 0, 0, 1, 0, 1, 1, 1, 0, 0, 1, 0, 1, 0, 1, 1, 0, 1, 1, 1, 1, 1, 1, 1, 0, 1, 0, 1, 0, 0, 1, 0, 0, 1, 1, 1, 0, 1, 1, 1, 1, 1, 1, 1, 0, 1, 1, 1, 1, 1, 0, 1, 1, 1, 1, 1, 1, 0, 0, 1, 1, 1, 0]\n"
     ]
    }
   ],
   "source": [
    "# NOW WE HAVE GOT ALL THE CLASSIFIERS  FOR OUT R BUILT CLASSIFIER\n",
    "print(ypred)"
   ]
  },
  {
   "cell_type": "code",
   "execution_count": 56,
   "metadata": {},
   "outputs": [
    {
     "name": "stdout",
     "output_type": "stream",
     "text": [
      "[0.916083916083916, 0.9230769230769231, 0.9370629370629371, 0.9440559440559441, 0.958041958041958, 0.958041958041958, 0.958041958041958, 0.958041958041958, 0.958041958041958, 0.958041958041958, 0.951048951048951, 0.951048951048951, 0.958041958041958, 0.951048951048951, 0.9370629370629371, 0.9370629370629371, 0.9440559440559441, 0.9440559440559441, 0.9440559440559441, 0.951048951048951]\n"
     ]
    }
   ],
   "source": [
    "# NOW LET US USE INBUILT METHOD TO FIND THE K VALUE WITHOUT USING CROSSVAL WITH THE HELP OF OUR OWN BUILT CLASSIFIER\n",
    "# LET US CREATE A LIST OF ALL K-SCORES\n",
    "bestkscores=[]\n",
    "# FOR THAT WE HAVE TO TUNE LITTLE BIT ADD K TO EVERY FUNCTION\n",
    "def single_predict_pointk(X_train,Y_train,x,k):\n",
    "    # I WILL STORE ALL THE DISTANCE AND THEIR ROW IN TERMS OF NESTED LISTS\n",
    "    distance=[]\n",
    "    # WE HAVE TO ITERATE THROUGH THE X_train IN A SINGLE HANDED\n",
    "    for i in range(len(X_train)):\n",
    "        # AS IT IS IN THE FORM OF NUMPY WHAT WE CAN DO IS WE CAN SIMPLY DO \n",
    "        dis=(((X_train[i,:]-x)**2).sum())**1/2\n",
    "        #NOW YOU APPEND dis and THE ROW(i)\n",
    "        distance.append([dis,i])\n",
    "    #NOW WE HAVE ALL THE DISTANCES WITH RESPECT TO EACH ROW IN THE DISTANCE LIST\n",
    "    # WHAT WE DO WE WILL SORT IT FIRST AS THE MINIUMUM DISTANCE HAVE TO BE\n",
    "    distance=sorted(distance)\n",
    "    # IT WILL BE SORTED BASED ON THE FIRST\n",
    "    # NOW WE WILL GET ALL THE TARGET OF THAT RESPECTIVE ROW\n",
    "    target=[]\n",
    "    # LET ME CONSIDER K AS 7[AS OF NOW],.....IT CAN BE APPLIED TO ANY NUMBER OF K VALUE\n",
    "    for i in range(k):\n",
    "        indexx=distance[i][1]\n",
    "        value=Y_train[indexx]\n",
    "        target.append(value)\n",
    "    #NOW YOU HAVE 7 NEAREST NEIGHBOUR WITH ITS TARGET,NOW WHICH EVER VALUE HAS MORE VOTE YOU CAN GET THAT \n",
    "    #IN PYTHON YOU CAN DO THAT WITH THE HELP OF COUNTERS\n",
    "    mos=Counter(target).most_common(1)[0][0]\n",
    "    return mos\n",
    "\n",
    "def predictk(X_train,Y_train,X_test,k):\n",
    "    # WE ARE KEEPING ALL THE PREDICTIONS IN ONE LIST\n",
    "    y_pred=[]\n",
    "    # ITERATING ON THE X_test\n",
    "    for x in X_test:\n",
    "        bestclass=single_predict_pointk(X_train,Y_train,x,k)\n",
    "        y_pred.append(bestclass)\n",
    "    return y_pred\n",
    "\n",
    "# LET US IMPORT ACCURACY SCORE TO CALCULATE THE ACCURACY\n",
    "from sklearn.metrics import accuracy_score\n",
    "\n",
    "# NOW WHAT WE DO IS EVERYTHING IS SETTLED NOW LET US TAKE AS RANDOM VALUE FROM 1 to 41 IT HAS TO BE ODD[TO GET THE MAXIMUM VOTING]\n",
    "for i in range(1,41,2):\n",
    "    yanswer=predictk(X_train,Y_train,X_test,i)\n",
    "    score=accuracy_score(Y_test,yanswer)\n",
    "    bestkscores.append(score)\n",
    "print(bestkscores)\n"
   ]
  },
  {
   "cell_type": "code",
   "execution_count": null,
   "metadata": {},
   "outputs": [],
   "source": [
    "# NOW YOU GOT ALL THE bestkscores now LET US FIND THE OPTIMAL K VALUE BY PLOTTING"
   ]
  },
  {
   "cell_type": "code",
   "execution_count": 64,
   "metadata": {},
   "outputs": [
    {
     "data": {
      "image/png": "[encoded data removed]",
      "text/plain": [
       "<Figure size 432x288 with 1 Axes>"
      ]
     },
     "metadata": {
      "needs_background": "light"
     },
     "output_type": "display_data"
    }
   ],
   "source": [
    "x=np.arange(1,41,2)\n",
    "plt.plot(x,bestkscores,linestyle='dashed',color='blue',marker='o',markersize=12,markerfacecolor='red')\n",
    "plt.title('OPTIMAL K')\n",
    "plt.xlabel('RANGE')\n",
    "plt.ylabel('BEST K SCORES')\n",
    "plt.show()\n"
   ]
  },
  {
   "cell_type": "code",
   "execution_count": null,
   "metadata": {},
   "outputs": [],
   "source": [
    "# WE CAN CHOOSE EITHER BETWEEN 20 and 25"
   ]
  },
  {
   "cell_type": "code",
   "execution_count": 62,
   "metadata": {},
   "outputs": [],
   "source": [
    "# NOW LET US USE SKLEARN INBUILT CLASSIFIER AND CHECK FOR 25 K VALUE"
   ]
  },
  {
   "cell_type": "code",
   "execution_count": 63,
   "metadata": {},
   "outputs": [],
   "source": [
    "clf=KNeighborsClassifier(n_neighbors=25)\n",
    "clf.fit(X_train,Y_train)\n",
    "yipred=clf.predict(X_test)"
   ]
  },
  {
   "cell_type": "code",
   "execution_count": 65,
   "metadata": {},
   "outputs": [],
   "source": [
    "score=accuracy_score(Y_test,yipred)"
   ]
  },
  {
   "cell_type": "code",
   "execution_count": 66,
   "metadata": {},
   "outputs": [
    {
     "data": {
      "text/plain": [
       "0.958041958041958"
      ]
     },
     "execution_count": 66,
     "metadata": {},
     "output_type": "execute_result"
    }
   ],
   "source": [
    "score"
   ]
  },
  {
   "cell_type": "code",
   "execution_count": 67,
   "metadata": {},
   "outputs": [],
   "source": [
    "# THIS SCORE IS BETTER THAN THE SCORE WHICH WE HAD BUILT LET US BUILD CONFUSION MATRIX AND CLASSFICATION REPORT FOR THIS "
   ]
  },
  {
   "cell_type": "code",
   "execution_count": 68,
   "metadata": {},
   "outputs": [],
   "source": [
    "from sklearn.metrics import confusion_matrix,classification_report"
   ]
  },
  {
   "cell_type": "code",
   "execution_count": 70,
   "metadata": {},
   "outputs": [
    {
     "name": "stdout",
     "output_type": "stream",
     "text": [
      "              precision    recall  f1-score   support\n",
      "\n",
      "           0       0.96      0.92      0.94        53\n",
      "           1       0.96      0.98      0.97        90\n",
      "\n",
      "    accuracy                           0.96       143\n",
      "   macro avg       0.96      0.95      0.95       143\n",
      "weighted avg       0.96      0.96      0.96       143\n",
      "\n"
     ]
    }
   ],
   "source": [
    "print(classification_report(Y_test,yipred))"
   ]
  },
  {
   "cell_type": "code",
   "execution_count": 71,
   "metadata": {},
   "outputs": [
    {
     "name": "stdout",
     "output_type": "stream",
     "text": [
      "[[49  4]\n",
      " [ 2 88]]\n"
     ]
    }
   ],
   "source": [
    "print(confusion_matrix(Y_test,yipred))"
   ]
  },
  {
   "cell_type": "code",
   "execution_count": 72,
   "metadata": {},
   "outputs": [],
   "source": [
    "# SEEMS LIKE WE HAVE ONLY 6 INCORRECT ...."
   ]
  }
 ],
 "metadata": {
  "kernelspec": {
   "display_name": "Python 3",
   "language": "python",
   "name": "python3"
  },
  "language_info": {
   "codemirror_mode": {
    "name": "ipython",
    "version": 3
   },
   "file_extension": ".py",
   "mimetype": "text/x-python",
   "name": "python",
   "nbconvert_exporter": "python",
   "pygments_lexer": "ipython3",
   "version": "3.7.4"
  }
 },
 "nbformat": 4,
 "nbformat_minor": 2
}
